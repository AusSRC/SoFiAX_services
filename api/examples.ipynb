{
 "cells": [
  {
   "cell_type": "markdown",
   "metadata": {},
   "source": [
    "# WALLABY Database Notebook\n",
    "\n",
    "Access the WALLABY database with Python commands. This uses the [Django models](https://docs.djangoproject.com/en/3.1/topics/db/models/) to create an mapping between our Python objects and the PostgreSQL database.\n",
    "\n",
    "To access this notebook with Django shell locally\n",
    "\n",
    "```\n",
    "python3 manage.py shell_plus --notebook\n",
    "```\n",
    "\n",
    "In this notebook we will show you how to interact with the database with Python objects. We will:\n",
    "\n",
    "1. Create mock detections\n",
    "2. Add comments to detections\n",
    "3. Add tags to detections\n",
    "4. Use custom logic to define the sources catalogue"
   ]
  },
  {
   "cell_type": "code",
   "execution_count": 2,
   "metadata": {},
   "outputs": [],
   "source": [
    "import os\n",
    "import json\n",
    "from datetime import datetime\n",
    "os.environ[\"DJANGO_ALLOW_ASYNC_UNSAFE\"] = \"true\""
   ]
  },
  {
   "cell_type": "code",
   "execution_count": 3,
   "metadata": {},
   "outputs": [],
   "source": [
    "# Import models\n",
    "\n",
    "from run.models import Run\n",
    "from instance.models import Instance\n",
    "from detection.models import Detection\n",
    "\n",
    "from sources.models import Sources\n",
    "from comments.models import Comments\n",
    "from tag.models import Tag"
   ]
  },
  {
   "cell_type": "code",
   "execution_count": 4,
   "metadata": {},
   "outputs": [],
   "source": [
    "# Utils\n",
    "\n",
    "import random\n",
    "import string\n",
    "from decimal import Decimal\n",
    "\n",
    "def random_name():\n",
    "    N = 5\n",
    "    return ''.join(random.choice(string.ascii_letters) for x in range(N))"
   ]
  },
  {
   "cell_type": "markdown",
   "metadata": {},
   "source": [
    "## 1. Create mock detections"
   ]
  },
  {
   "cell_type": "code",
   "execution_count": 5,
   "metadata": {},
   "outputs": [],
   "source": [
    "# Create a mock run\n",
    "query = Run.objects.filter(id=1)\n",
    "if query.exists():\n",
    "    run = query.first()\n",
    "else:\n",
    "    run = Run.objects.create(name=\"Test\", sanity_thresholds=json.dumps(\"{}\"))\n",
    "                                                                       \n",
    "# Create a mock instance\n",
    "query = Instance.objects.filter(id=1)\n",
    "if query.exists():\n",
    "    instance = query.first()\n",
    "else:\n",
    "    instance = Instance.objects.create(\n",
    "        run_id=run.id,\n",
    "        filename=\"test\",\n",
    "        boundary={0,0,0,0},\n",
    "        run_date=datetime.now(),\n",
    "        flag_log=bytes(0),\n",
    "        reliability_plot=bytes(0),\n",
    "        log=bytes(0),\n",
    "        parameters=json.dumps(\"{}\"),\n",
    "        version='0.0.0',\n",
    "        return_code=0,\n",
    "        stdout=bytes(0),\n",
    "        stderr=bytes(0),\n",
    "    )"
   ]
  },
  {
   "cell_type": "code",
   "execution_count": 6,
   "metadata": {},
   "outputs": [],
   "source": [
    "# Create a bunch of random detections\n",
    "for _ in range(20):\n",
    "    if Detection.objects.count() < 20:\n",
    "        Detection.objects.create(\n",
    "            instance_id=instance.id,\n",
    "            run_id=run.id,\n",
    "            name=random_name(),\n",
    "            access_url=\"https://test\",\n",
    "            access_format=\"txt\",\n",
    "            x=random.random(),\n",
    "            y=random.random(),\n",
    "            z=random.random(),\n",
    "            x_min=0.0,\n",
    "            x_max=1.0,\n",
    "            y_min=0.0,\n",
    "            y_max=1.0,\n",
    "            z_min=0.0,\n",
    "            z_max=1.0,\n",
    "            n_pix=500.0,\n",
    "            f_min=0.0,\n",
    "            f_max=10.0,\n",
    "            f_sum=20.0,\n",
    "            rms=0.0,\n",
    "            w20=0.0,\n",
    "            w50=0.0,\n",
    "            ell_maj=1.0,\n",
    "            ell_min=0.0,\n",
    "            ell_pa=0.0,\n",
    "            ell3s_maj=1.0,\n",
    "            ell3s_min=0.0,\n",
    "            ell3s_pa=0.0,\n",
    "            err_x=999.0,\n",
    "            err_y=999.0,\n",
    "            err_z=999.0,\n",
    "            err_f_sum=999.0,\n",
    "            unresolved=random.choice([True, False])\n",
    "        )"
   ]
  },
  {
   "cell_type": "markdown",
   "metadata": {},
   "source": [
    "## 2. Add comments "
   ]
  },
  {
   "cell_type": "code",
   "execution_count": 7,
   "metadata": {},
   "outputs": [
    {
     "name": "stderr",
     "output_type": "stream",
     "text": [
      "/usr/local/lib/python3.9/site-packages/django/db/models/fields/__init__.py:1367: RuntimeWarning: DateTimeField Comments.added_at received a naive datetime (2021-02-04 09:34:32.805570) while time zone support is active.\n",
      "  warnings.warn(\"DateTimeField %s received a naive datetime (%s)\"\n",
      "/usr/local/lib/python3.9/site-packages/django/db/models/fields/__init__.py:1367: RuntimeWarning: DateTimeField Comments.updated_at received a naive datetime (2021-02-04 09:34:32.805579) while time zone support is active.\n",
      "  warnings.warn(\"DateTimeField %s received a naive datetime (%s)\"\n"
     ]
    },
    {
     "data": {
      "text/plain": [
       "<Comments: Comments object (4)>"
      ]
     },
     "execution_count": 7,
     "metadata": {},
     "output_type": "execute_result"
    }
   ],
   "source": [
    "# Add comment to that detection\n",
    "Comments.objects.create(\n",
    "    comment=\"I have selected this at random\",\n",
    "    detection=Detection.objects.get(id=5),\n",
    "    added_at=datetime.now(),\n",
    "    updated_at=datetime.now()\n",
    ")"
   ]
  },
  {
   "cell_type": "code",
   "execution_count": 12,
   "metadata": {},
   "outputs": [
    {
     "name": "stderr",
     "output_type": "stream",
     "text": [
      "/usr/local/lib/python3.9/site-packages/django/db/models/fields/__init__.py:1367: RuntimeWarning: DateTimeField Comments.added_at received a naive datetime (2021-02-04 09:36:32.963365) while time zone support is active.\n",
      "  warnings.warn(\"DateTimeField %s received a naive datetime (%s)\"\n",
      "/usr/local/lib/python3.9/site-packages/django/db/models/fields/__init__.py:1367: RuntimeWarning: DateTimeField Comments.updated_at received a naive datetime (2021-02-04 09:36:32.963373) while time zone support is active.\n",
      "  warnings.warn(\"DateTimeField %s received a naive datetime (%s)\"\n"
     ]
    },
    {
     "data": {
      "text/plain": [
       "<Comments: Comments object (5)>"
      ]
     },
     "execution_count": 12,
     "metadata": {},
     "output_type": "execute_result"
    }
   ],
   "source": [
    "# Add another comment to another detection\n",
    "Comments.objects.create(\n",
    "    comment=\"This detection was really bad because of noise.\",\n",
    "    detection=Detection.objects.get(id=17),\n",
    "    added_at=datetime.now(),\n",
    "    updated_at=datetime.now()\n",
    ")"
   ]
  },
  {
   "cell_type": "code",
   "execution_count": 14,
   "metadata": {},
   "outputs": [
    {
     "name": "stdout",
     "output_type": "stream",
     "text": [
      "5 I have selected this at random\n",
      "17 This detection was really bad because of noise.\n"
     ]
    }
   ],
   "source": [
    "# Select all comments\n",
    "for c in list(Comments.objects.all()):\n",
    "    print(c.detection.id, c.comment)"
   ]
  },
  {
   "cell_type": "code",
   "execution_count": 18,
   "metadata": {},
   "outputs": [
    {
     "data": {
      "text/plain": [
       "[<Detection: Detection object (5)>, <Detection: Detection object (17)>]"
      ]
     },
     "execution_count": 18,
     "metadata": {},
     "output_type": "execute_result"
    }
   ],
   "source": [
    "# Select detections with comments\n",
    "\n",
    "[Detection.objects.get(id=c.detection_id) for c in list(Comments.objects.all())]"
   ]
  },
  {
   "cell_type": "markdown",
   "metadata": {},
   "source": [
    "## 3. Tagging"
   ]
  },
  {
   "cell_type": "code",
   "execution_count": 21,
   "metadata": {},
   "outputs": [
    {
     "name": "stderr",
     "output_type": "stream",
     "text": [
      "/usr/local/lib/python3.9/site-packages/django/db/models/fields/__init__.py:1367: RuntimeWarning: DateTimeField Tag.added_at received a naive datetime (2021-02-05 01:46:39.003561) while time zone support is active.\n",
      "  warnings.warn(\"DateTimeField %s received a naive datetime (%s)\"\n",
      "/usr/local/lib/python3.9/site-packages/django/db/models/fields/__init__.py:1367: RuntimeWarning: DateTimeField Tag.added_at received a naive datetime (2021-02-05 01:46:39.013321) while time zone support is active.\n",
      "  warnings.warn(\"DateTimeField %s received a naive datetime (%s)\"\n",
      "/usr/local/lib/python3.9/site-packages/django/db/models/fields/__init__.py:1367: RuntimeWarning: DateTimeField Tag.added_at received a naive datetime (2021-02-05 01:46:39.014852) while time zone support is active.\n",
      "  warnings.warn(\"DateTimeField %s received a naive datetime (%s)\"\n"
     ]
    },
    {
     "data": {
      "text/plain": [
       "<Tag: Tag object (3)>"
      ]
     },
     "execution_count": 21,
     "metadata": {},
     "output_type": "execute_result"
    }
   ],
   "source": [
    "# Create some tags\n",
    "\n",
    "Tag.objects.create(\n",
    "    tag_name=\"Noise\",\n",
    "    description=\"Don't trust this as a source since the image was noisy\",\n",
    "    added_at=datetime.now()\n",
    ")\n",
    "\n",
    "Tag.objects.create(\n",
    "    tag_name=\"Kinematics\",\n",
    "    description=\"Image is resolved and good for kinematics analysis\",\n",
    "    added_at=datetime.now()\n",
    ")\n",
    "\n",
    "Tag.objects.create(\n",
    "    tag_name=\"Further Inspection\",\n",
    "    description=\"This image shows interesting features and should be inspected further\",\n",
    "    added_at=datetime.now()\n",
    ")"
   ]
  },
  {
   "cell_type": "code",
   "execution_count": 25,
   "metadata": {},
   "outputs": [
    {
     "data": {
      "text/plain": [
       "<TagDetection: TagDetection object (10)>"
      ]
     },
     "execution_count": 25,
     "metadata": {},
     "output_type": "execute_result"
    }
   ],
   "source": [
    "# Tag the detections\n",
    "\n",
    "TagDetection.objects.create(\n",
    "    tag=Tag.objects.get(id=1),\n",
    "    detection=Detection.objects.get(id=2)\n",
    ")\n",
    "\n",
    "TagDetection.objects.create(\n",
    "    tag=Tag.objects.get(id=1),\n",
    "    detection=Detection.objects.get(id=3)\n",
    ")\n",
    "\n",
    "TagDetection.objects.create(\n",
    "    tag=Tag.objects.get(id=1),\n",
    "    detection=Detection.objects.get(id=4)\n",
    ")\n",
    "\n",
    "TagDetection.objects.create(\n",
    "    tag=Tag.objects.get(id=2),\n",
    "    detection=Detection.objects.get(id=12)\n",
    ")\n",
    "\n",
    "TagDetection.objects.create(\n",
    "    tag=Tag.objects.get(id=3),\n",
    "    detection=Detection.objects.get(id=9)\n",
    ")\n",
    "\n",
    "TagDetection.objects.create(\n",
    "    tag=Tag.objects.get(id=3),\n",
    "    detection=Detection.objects.get(id=16)\n",
    ")"
   ]
  },
  {
   "cell_type": "code",
   "execution_count": 34,
   "metadata": {},
   "outputs": [
    {
     "data": {
      "text/plain": [
       "[<Detection: Detection object (2)>,\n",
       " <Detection: Detection object (2)>,\n",
       " <Detection: Detection object (3)>,\n",
       " <Detection: Detection object (2)>,\n",
       " <Detection: Detection object (3)>,\n",
       " <Detection: Detection object (4)>]"
      ]
     },
     "execution_count": 34,
     "metadata": {},
     "output_type": "execute_result"
    }
   ],
   "source": [
    "# Retrieve detections with Tag 1.\n",
    "\n",
    "[td.detection for td in TagDetection.objects.filter(tag__id=1)]"
   ]
  },
  {
   "cell_type": "markdown",
   "metadata": {},
   "source": [
    "## 4. Select sources catalogue with custom logic"
   ]
  },
  {
   "cell_type": "markdown",
   "metadata": {},
   "source": [
    "Suppose we want to select the final sources catalogue from the detections with the following rules:\n",
    "\n",
    "* Anything tagged with \"Noise\" or \"Further Inspection\" cannot be included in this catalogue\n",
    "* Detection x value < 0.7 and y value < 0.7 (Detections were randomly selected with x, y, z from 0 to 1)\n",
    "\n",
    "We could do this with the ORM as such:"
   ]
  },
  {
   "cell_type": "code",
   "execution_count": 61,
   "metadata": {},
   "outputs": [],
   "source": [
    "# Detections matching these criteria\n",
    "catalogue = Detection.objects\\\n",
    "    .filter(x__lte=0.7, y__lte=0.7)\\\n",
    "    .exclude(id__in=[td.detection.id for td in TagDetection.objects.filter(tag__id=1) | TagDetection.objects.filter(tag__id=3)])"
   ]
  },
  {
   "cell_type": "code",
   "execution_count": 63,
   "metadata": {},
   "outputs": [
    {
     "data": {
      "text/plain": [
       "[<Sources: Sources object (1)>,\n",
       " <Sources: Sources object (2)>,\n",
       " <Sources: Sources object (3)>,\n",
       " <Sources: Sources object (4)>,\n",
       " <Sources: Sources object (5)>,\n",
       " <Sources: Sources object (6)>,\n",
       " <Sources: Sources object (7)>,\n",
       " <Sources: Sources object (8)>]"
      ]
     },
     "execution_count": 63,
     "metadata": {},
     "output_type": "execute_result"
    }
   ],
   "source": [
    "# Create source catalogue\n",
    "[Sources.objects.create(detection=d) for d in catalogue]"
   ]
  },
  {
   "cell_type": "markdown",
   "metadata": {},
   "source": [
    "# TODOs\n",
    "\n",
    "* Provide science teams with access to this system\n",
    "* Get some initial feedback for this approach"
   ]
  },
  {
   "cell_type": "code",
   "execution_count": null,
   "metadata": {},
   "outputs": [],
   "source": []
  }
 ],
 "metadata": {
  "kernelspec": {
   "display_name": "Django Shell-Plus",
   "language": "python",
   "name": "django_extensions"
  },
  "language_info": {
   "codemirror_mode": {
    "name": "ipython",
    "version": 3
   },
   "file_extension": ".py",
   "mimetype": "text/x-python",
   "name": "python",
   "nbconvert_exporter": "python",
   "pygments_lexer": "ipython3",
   "version": "3.9.1"
  }
 },
 "nbformat": 4,
 "nbformat_minor": 4
}
